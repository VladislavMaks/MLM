{
 "cells": [
  {
   "cell_type": "markdown",
   "id": "60eee102",
   "metadata": {},
   "source": [
    "# Лабораторная работа №2\n",
    "\n",
    "## Содержание:\n",
    "\n",
    "Цель выполнения лабораторной работы\n",
    "\n",
    "Описание входных данных\n",
    "\n",
    "Описание алгоритмов классификации\n",
    "\n",
    "Описание и интерпретация результатов работы алгоритмов\n",
    "\n",
    "Выводы\n",
    "\n",
    "## Цель выполнения лабораторной работы\n",
    "\n",
    "1 Ознакомиться с теоретическим материалом, представленным на лекции, а также\n",
    "с примером (https://mlbootcamp.ru/article/tutorial/).\n",
    "\n",
    "2 Подготовить исходные данные для бинарной классификации (https://www.kaggle.com/datasets). Количество объектов в исходных данных должно быть не менее 1000, количество признаков – 5 и более (как категориальные (бинарные, небинарные), так и количественные признаки должны присутствовать). По аналогии с примером (https://mlbootcamp.ru/article/tutorial/) провести предобработку данных, при необходимости заполнить пропущенные данные, поменять тип данных, провести нормализацию данных, преобразовать признаки, проверить являются ли данные сбалансированными.\n",
    "\n",
    "3 Провести классификацию различными способами (3 алгоритма), оценить\n",
    "качество классификации с помощью метрик из приложения 1\n",
    "\n",
    "4 Проанализировать результаты (оценить качество классификации) в случае\n",
    "сэмплирования данных (например, с помощью алгоритмов Random Undersampling,\n",
    "Random Oversampling, Smote), сравнить с результатами до сэмплирования.\n",
    "\n",
    "5 Оформить отчет по лабораторной работе.\n",
    "\n",
    "## Описание входных данных\n",
    "\n",
    "Входные данные представляют собой информацию о пациентах, которые (не) болеют раком кожи. Датасет содержит в себе 319795 карточек пациентов\n",
    "\n",
    "## Описание алгоритмов классификации\n",
    "\n",
    "1 Наи́вный ба́йесовский классифика́тор — простой вероятностный классификатор, основанный на применении теоремы Байеса со строгими (наивными) предположениями о независимости. В зависимости от точной природы вероятностной модели, наивные байесовские классификаторы могут обучаться очень эффективно. Во многих практических приложениях для оценки параметров для наивных байесовых моделей используют метод максимального правдоподобия; другими словами, можно работать с наивной байесовской моделью, не веря в байесовскую вероятность и не используя байесовские методы.\n",
    "\n",
    "2 Random forest (с англ. — «случайный лес») — алгоритм машинного обучения, предложенный Лео Брейманом[1][2] и Адель Катлер  (англ.)рус., заключающийся в использовании комитета (ансамбля) решающих деревьев. Алгоритм сочетает в себе две основные идеи: метод бэггинга Бреймана, и метод случайных подпространств  (англ.)рус., предложенный Тин Кам Хо  (англ.)рус.. Алгоритм применяется для задач классификации, регрессии и кластеризации. Основная идея заключается в использовании большого ансамбля решающих деревьев, каждое из которых само по себе даёт очень невысокое качество классификации, но за счёт их большого количества результат получается хорошим.\n",
    "\n",
    "3 Дерево принятия решений (также называют деревом классификации или регрессионным деревом) — средство поддержки принятия решений, использующееся в машинном обучении, анализе данных и статистике. Структура дерева представляет собой «листья» и «ветки». На рёбрах («ветках») дерева решения записаны признаки, от которых зависит целевая функция, в «листьях» записаны значения целевой функции, а в остальных узлах — признаки, по которым различаются случаи. Чтобы классифицировать новый случай, надо спуститься по дереву до листа и выдать соответствующее значение."
   ]
  },
  {
   "cell_type": "code",
   "execution_count": 1,
   "id": "b3bccf7b",
   "metadata": {},
   "outputs": [],
   "source": [
    "import pandas as pd\n",
    "import numpy as np\n",
    "from matplotlib import pyplot as plt"
   ]
  },
  {
   "cell_type": "code",
   "execution_count": 49,
   "id": "09506ba3",
   "metadata": {},
   "outputs": [
    {
     "data": {
      "text/html": [
       "<div>\n",
       "<style scoped>\n",
       "    .dataframe tbody tr th:only-of-type {\n",
       "        vertical-align: middle;\n",
       "    }\n",
       "\n",
       "    .dataframe tbody tr th {\n",
       "        vertical-align: top;\n",
       "    }\n",
       "\n",
       "    .dataframe thead th {\n",
       "        text-align: right;\n",
       "    }\n",
       "</style>\n",
       "<table border=\"1\" class=\"dataframe\">\n",
       "  <thead>\n",
       "    <tr style=\"text-align: right;\">\n",
       "      <th></th>\n",
       "      <th>HeartDisease</th>\n",
       "      <th>BMI</th>\n",
       "      <th>Smoking</th>\n",
       "      <th>AlcoholDrinking</th>\n",
       "      <th>Stroke</th>\n",
       "      <th>PhysicalHealth</th>\n",
       "      <th>MentalHealth</th>\n",
       "      <th>DiffWalking</th>\n",
       "      <th>Sex</th>\n",
       "      <th>AgeCategory</th>\n",
       "      <th>Race</th>\n",
       "      <th>Diabetic</th>\n",
       "      <th>PhysicalActivity</th>\n",
       "      <th>GenHealth</th>\n",
       "      <th>SleepTime</th>\n",
       "      <th>Asthma</th>\n",
       "      <th>KidneyDisease</th>\n",
       "      <th>SkinCancer</th>\n",
       "    </tr>\n",
       "  </thead>\n",
       "  <tbody>\n",
       "    <tr>\n",
       "      <th>0</th>\n",
       "      <td>No</td>\n",
       "      <td>16.60</td>\n",
       "      <td>Yes</td>\n",
       "      <td>No</td>\n",
       "      <td>No</td>\n",
       "      <td>3.0</td>\n",
       "      <td>30.0</td>\n",
       "      <td>No</td>\n",
       "      <td>Female</td>\n",
       "      <td>55-59</td>\n",
       "      <td>White</td>\n",
       "      <td>Yes</td>\n",
       "      <td>Yes</td>\n",
       "      <td>Very good</td>\n",
       "      <td>5.0</td>\n",
       "      <td>Yes</td>\n",
       "      <td>No</td>\n",
       "      <td>Yes</td>\n",
       "    </tr>\n",
       "    <tr>\n",
       "      <th>1</th>\n",
       "      <td>No</td>\n",
       "      <td>20.34</td>\n",
       "      <td>No</td>\n",
       "      <td>No</td>\n",
       "      <td>Yes</td>\n",
       "      <td>0.0</td>\n",
       "      <td>0.0</td>\n",
       "      <td>No</td>\n",
       "      <td>Female</td>\n",
       "      <td>80 or older</td>\n",
       "      <td>White</td>\n",
       "      <td>No</td>\n",
       "      <td>Yes</td>\n",
       "      <td>Very good</td>\n",
       "      <td>7.0</td>\n",
       "      <td>No</td>\n",
       "      <td>No</td>\n",
       "      <td>No</td>\n",
       "    </tr>\n",
       "    <tr>\n",
       "      <th>2</th>\n",
       "      <td>No</td>\n",
       "      <td>26.58</td>\n",
       "      <td>Yes</td>\n",
       "      <td>No</td>\n",
       "      <td>No</td>\n",
       "      <td>20.0</td>\n",
       "      <td>30.0</td>\n",
       "      <td>No</td>\n",
       "      <td>Male</td>\n",
       "      <td>65-69</td>\n",
       "      <td>White</td>\n",
       "      <td>Yes</td>\n",
       "      <td>Yes</td>\n",
       "      <td>Fair</td>\n",
       "      <td>8.0</td>\n",
       "      <td>Yes</td>\n",
       "      <td>No</td>\n",
       "      <td>No</td>\n",
       "    </tr>\n",
       "    <tr>\n",
       "      <th>3</th>\n",
       "      <td>No</td>\n",
       "      <td>24.21</td>\n",
       "      <td>No</td>\n",
       "      <td>No</td>\n",
       "      <td>No</td>\n",
       "      <td>0.0</td>\n",
       "      <td>0.0</td>\n",
       "      <td>No</td>\n",
       "      <td>Female</td>\n",
       "      <td>75-79</td>\n",
       "      <td>White</td>\n",
       "      <td>No</td>\n",
       "      <td>No</td>\n",
       "      <td>Good</td>\n",
       "      <td>6.0</td>\n",
       "      <td>No</td>\n",
       "      <td>No</td>\n",
       "      <td>Yes</td>\n",
       "    </tr>\n",
       "    <tr>\n",
       "      <th>4</th>\n",
       "      <td>No</td>\n",
       "      <td>23.71</td>\n",
       "      <td>No</td>\n",
       "      <td>No</td>\n",
       "      <td>No</td>\n",
       "      <td>28.0</td>\n",
       "      <td>0.0</td>\n",
       "      <td>Yes</td>\n",
       "      <td>Female</td>\n",
       "      <td>40-44</td>\n",
       "      <td>White</td>\n",
       "      <td>No</td>\n",
       "      <td>Yes</td>\n",
       "      <td>Very good</td>\n",
       "      <td>8.0</td>\n",
       "      <td>No</td>\n",
       "      <td>No</td>\n",
       "      <td>No</td>\n",
       "    </tr>\n",
       "    <tr>\n",
       "      <th>...</th>\n",
       "      <td>...</td>\n",
       "      <td>...</td>\n",
       "      <td>...</td>\n",
       "      <td>...</td>\n",
       "      <td>...</td>\n",
       "      <td>...</td>\n",
       "      <td>...</td>\n",
       "      <td>...</td>\n",
       "      <td>...</td>\n",
       "      <td>...</td>\n",
       "      <td>...</td>\n",
       "      <td>...</td>\n",
       "      <td>...</td>\n",
       "      <td>...</td>\n",
       "      <td>...</td>\n",
       "      <td>...</td>\n",
       "      <td>...</td>\n",
       "      <td>...</td>\n",
       "    </tr>\n",
       "    <tr>\n",
       "      <th>319790</th>\n",
       "      <td>Yes</td>\n",
       "      <td>27.41</td>\n",
       "      <td>Yes</td>\n",
       "      <td>No</td>\n",
       "      <td>No</td>\n",
       "      <td>7.0</td>\n",
       "      <td>0.0</td>\n",
       "      <td>Yes</td>\n",
       "      <td>Male</td>\n",
       "      <td>60-64</td>\n",
       "      <td>Hispanic</td>\n",
       "      <td>Yes</td>\n",
       "      <td>No</td>\n",
       "      <td>Fair</td>\n",
       "      <td>6.0</td>\n",
       "      <td>Yes</td>\n",
       "      <td>No</td>\n",
       "      <td>No</td>\n",
       "    </tr>\n",
       "    <tr>\n",
       "      <th>319791</th>\n",
       "      <td>No</td>\n",
       "      <td>29.84</td>\n",
       "      <td>Yes</td>\n",
       "      <td>No</td>\n",
       "      <td>No</td>\n",
       "      <td>0.0</td>\n",
       "      <td>0.0</td>\n",
       "      <td>No</td>\n",
       "      <td>Male</td>\n",
       "      <td>35-39</td>\n",
       "      <td>Hispanic</td>\n",
       "      <td>No</td>\n",
       "      <td>Yes</td>\n",
       "      <td>Very good</td>\n",
       "      <td>5.0</td>\n",
       "      <td>Yes</td>\n",
       "      <td>No</td>\n",
       "      <td>No</td>\n",
       "    </tr>\n",
       "    <tr>\n",
       "      <th>319792</th>\n",
       "      <td>No</td>\n",
       "      <td>24.24</td>\n",
       "      <td>No</td>\n",
       "      <td>No</td>\n",
       "      <td>No</td>\n",
       "      <td>0.0</td>\n",
       "      <td>0.0</td>\n",
       "      <td>No</td>\n",
       "      <td>Female</td>\n",
       "      <td>45-49</td>\n",
       "      <td>Hispanic</td>\n",
       "      <td>No</td>\n",
       "      <td>Yes</td>\n",
       "      <td>Good</td>\n",
       "      <td>6.0</td>\n",
       "      <td>No</td>\n",
       "      <td>No</td>\n",
       "      <td>No</td>\n",
       "    </tr>\n",
       "    <tr>\n",
       "      <th>319793</th>\n",
       "      <td>No</td>\n",
       "      <td>32.81</td>\n",
       "      <td>No</td>\n",
       "      <td>No</td>\n",
       "      <td>No</td>\n",
       "      <td>0.0</td>\n",
       "      <td>0.0</td>\n",
       "      <td>No</td>\n",
       "      <td>Female</td>\n",
       "      <td>25-29</td>\n",
       "      <td>Hispanic</td>\n",
       "      <td>No</td>\n",
       "      <td>No</td>\n",
       "      <td>Good</td>\n",
       "      <td>12.0</td>\n",
       "      <td>No</td>\n",
       "      <td>No</td>\n",
       "      <td>No</td>\n",
       "    </tr>\n",
       "    <tr>\n",
       "      <th>319794</th>\n",
       "      <td>No</td>\n",
       "      <td>46.56</td>\n",
       "      <td>No</td>\n",
       "      <td>No</td>\n",
       "      <td>No</td>\n",
       "      <td>0.0</td>\n",
       "      <td>0.0</td>\n",
       "      <td>No</td>\n",
       "      <td>Female</td>\n",
       "      <td>80 or older</td>\n",
       "      <td>Hispanic</td>\n",
       "      <td>No</td>\n",
       "      <td>Yes</td>\n",
       "      <td>Good</td>\n",
       "      <td>8.0</td>\n",
       "      <td>No</td>\n",
       "      <td>No</td>\n",
       "      <td>No</td>\n",
       "    </tr>\n",
       "  </tbody>\n",
       "</table>\n",
       "<p>319795 rows × 18 columns</p>\n",
       "</div>"
      ],
      "text/plain": [
       "       HeartDisease    BMI Smoking AlcoholDrinking Stroke  PhysicalHealth  \\\n",
       "0                No  16.60     Yes              No     No             3.0   \n",
       "1                No  20.34      No              No    Yes             0.0   \n",
       "2                No  26.58     Yes              No     No            20.0   \n",
       "3                No  24.21      No              No     No             0.0   \n",
       "4                No  23.71      No              No     No            28.0   \n",
       "...             ...    ...     ...             ...    ...             ...   \n",
       "319790          Yes  27.41     Yes              No     No             7.0   \n",
       "319791           No  29.84     Yes              No     No             0.0   \n",
       "319792           No  24.24      No              No     No             0.0   \n",
       "319793           No  32.81      No              No     No             0.0   \n",
       "319794           No  46.56      No              No     No             0.0   \n",
       "\n",
       "        MentalHealth DiffWalking     Sex  AgeCategory      Race Diabetic  \\\n",
       "0               30.0          No  Female        55-59     White      Yes   \n",
       "1                0.0          No  Female  80 or older     White       No   \n",
       "2               30.0          No    Male        65-69     White      Yes   \n",
       "3                0.0          No  Female        75-79     White       No   \n",
       "4                0.0         Yes  Female        40-44     White       No   \n",
       "...              ...         ...     ...          ...       ...      ...   \n",
       "319790           0.0         Yes    Male        60-64  Hispanic      Yes   \n",
       "319791           0.0          No    Male        35-39  Hispanic       No   \n",
       "319792           0.0          No  Female        45-49  Hispanic       No   \n",
       "319793           0.0          No  Female        25-29  Hispanic       No   \n",
       "319794           0.0          No  Female  80 or older  Hispanic       No   \n",
       "\n",
       "       PhysicalActivity  GenHealth  SleepTime Asthma KidneyDisease SkinCancer  \n",
       "0                   Yes  Very good        5.0    Yes            No        Yes  \n",
       "1                   Yes  Very good        7.0     No            No         No  \n",
       "2                   Yes       Fair        8.0    Yes            No         No  \n",
       "3                    No       Good        6.0     No            No        Yes  \n",
       "4                   Yes  Very good        8.0     No            No         No  \n",
       "...                 ...        ...        ...    ...           ...        ...  \n",
       "319790               No       Fair        6.0    Yes            No         No  \n",
       "319791              Yes  Very good        5.0    Yes            No         No  \n",
       "319792              Yes       Good        6.0     No            No         No  \n",
       "319793               No       Good       12.0     No            No         No  \n",
       "319794              Yes       Good        8.0     No            No         No  \n",
       "\n",
       "[319795 rows x 18 columns]"
      ]
     },
     "execution_count": 49,
     "metadata": {},
     "output_type": "execute_result"
    }
   ],
   "source": [
    "df = pd.read_csv('heart_2020_cleaned.csv', sep=',')\n",
    "df"
   ]
  },
  {
   "cell_type": "code",
   "execution_count": 3,
   "id": "a0e06c17",
   "metadata": {},
   "outputs": [
    {
     "name": "stdout",
     "output_type": "stream",
     "text": [
      "<class 'pandas.core.frame.DataFrame'>\n",
      "RangeIndex: 319795 entries, 0 to 319794\n",
      "Data columns (total 18 columns):\n",
      " #   Column            Non-Null Count   Dtype  \n",
      "---  ------            --------------   -----  \n",
      " 0   HeartDisease      319795 non-null  object \n",
      " 1   BMI               319795 non-null  float64\n",
      " 2   Smoking           319795 non-null  object \n",
      " 3   AlcoholDrinking   319795 non-null  object \n",
      " 4   Stroke            319795 non-null  object \n",
      " 5   PhysicalHealth    319795 non-null  float64\n",
      " 6   MentalHealth      319795 non-null  float64\n",
      " 7   DiffWalking       319795 non-null  object \n",
      " 8   Sex               319795 non-null  object \n",
      " 9   AgeCategory       319795 non-null  object \n",
      " 10  Race              319795 non-null  object \n",
      " 11  Diabetic          319795 non-null  object \n",
      " 12  PhysicalActivity  319795 non-null  object \n",
      " 13  GenHealth         319795 non-null  object \n",
      " 14  SleepTime         319795 non-null  float64\n",
      " 15  Asthma            319795 non-null  object \n",
      " 16  KidneyDisease     319795 non-null  object \n",
      " 17  SkinCancer        319795 non-null  object \n",
      "dtypes: float64(4), object(14)\n",
      "memory usage: 43.9+ MB\n"
     ]
    }
   ],
   "source": [
    "df.info()"
   ]
  },
  {
   "cell_type": "code",
   "execution_count": 4,
   "id": "343fe383",
   "metadata": {},
   "outputs": [
    {
     "data": {
      "text/plain": [
       "HeartDisease        0\n",
       "BMI                 0\n",
       "Smoking             0\n",
       "AlcoholDrinking     0\n",
       "Stroke              0\n",
       "PhysicalHealth      0\n",
       "MentalHealth        0\n",
       "DiffWalking         0\n",
       "Sex                 0\n",
       "AgeCategory         0\n",
       "Race                0\n",
       "Diabetic            0\n",
       "PhysicalActivity    0\n",
       "GenHealth           0\n",
       "SleepTime           0\n",
       "Asthma              0\n",
       "KidneyDisease       0\n",
       "SkinCancer          0\n",
       "dtype: int64"
      ]
     },
     "execution_count": 4,
     "metadata": {},
     "output_type": "execute_result"
    }
   ],
   "source": [
    "df.isna().sum()"
   ]
  },
  {
   "cell_type": "markdown",
   "id": "3381a1b4",
   "metadata": {},
   "source": [
    "## Анализ данных"
   ]
  },
  {
   "cell_type": "markdown",
   "id": "db856a59",
   "metadata": {},
   "source": [
    "### Целевая переменная"
   ]
  },
  {
   "cell_type": "code",
   "execution_count": 5,
   "id": "7c8071fb",
   "metadata": {},
   "outputs": [
    {
     "data": {
      "text/plain": [
       "No     289976\n",
       "Yes     29819\n",
       "Name: SkinCancer, dtype: int64"
      ]
     },
     "execution_count": 5,
     "metadata": {},
     "output_type": "execute_result"
    }
   ],
   "source": [
    "df[\"SkinCancer\"].value_counts()"
   ]
  },
  {
   "cell_type": "markdown",
   "id": "188f815b",
   "metadata": {},
   "source": [
    "Видим, что данные не сбалансированы"
   ]
  },
  {
   "cell_type": "markdown",
   "id": "5920e25b",
   "metadata": {},
   "source": [
    "### BMI\t"
   ]
  },
  {
   "cell_type": "code",
   "execution_count": 6,
   "id": "96d6a8d1",
   "metadata": {},
   "outputs": [
    {
     "data": {
      "image/png": "[encoded data removed]",
      "text/plain": [
       "<Figure size 864x576 with 1 Axes>"
      ]
     },
     "metadata": {
      "needs_background": "light"
     },
     "output_type": "display_data"
    }
   ],
   "source": [
    "plt.figure(figsize = (12, 8))\n",
    "\n",
    "df['BMI'].hist(bins=25)\n",
    "plt.ylabel('Amount')\n",
    "plt.xlabel('BMI')\n",
    "\n",
    "plt.title('BMI')\n",
    "plt.show()"
   ]
  },
  {
   "cell_type": "markdown",
   "id": "e236b195",
   "metadata": {},
   "source": [
    "Индекс массы > 60 какой-то нереалистичный"
   ]
  },
  {
   "cell_type": "code",
   "execution_count": 7,
   "id": "bac8594d",
   "metadata": {},
   "outputs": [],
   "source": [
    "df = df.loc[df['BMI'] < 60]"
   ]
  },
  {
   "cell_type": "markdown",
   "id": "4074f0b5",
   "metadata": {},
   "source": [
    "### Smoking"
   ]
  },
  {
   "cell_type": "code",
   "execution_count": 8,
   "id": "7ac88cf0",
   "metadata": {},
   "outputs": [
    {
     "data": {
      "text/plain": [
       "No     187596\n",
       "Yes    131707\n",
       "Name: Smoking, dtype: int64"
      ]
     },
     "execution_count": 8,
     "metadata": {},
     "output_type": "execute_result"
    }
   ],
   "source": [
    "df[\"Smoking\"].value_counts()"
   ]
  },
  {
   "cell_type": "markdown",
   "id": "bc5a08d6",
   "metadata": {},
   "source": [
    "Выглядит адекватно"
   ]
  },
  {
   "cell_type": "markdown",
   "id": "722dc1a5",
   "metadata": {},
   "source": [
    "### AlcoholDrinking\t"
   ]
  },
  {
   "cell_type": "code",
   "execution_count": 9,
   "id": "31e5b322",
   "metadata": {},
   "outputs": [
    {
     "data": {
      "text/plain": [
       "No     297557\n",
       "Yes     21746\n",
       "Name: AlcoholDrinking, dtype: int64"
      ]
     },
     "execution_count": 9,
     "metadata": {},
     "output_type": "execute_result"
    }
   ],
   "source": [
    "df[\"AlcoholDrinking\"].value_counts()"
   ]
  },
  {
   "cell_type": "markdown",
   "id": "7f359942",
   "metadata": {},
   "source": [
    "Данные тоже не сбалансированы, не уверен, что люди отвечали правду"
   ]
  },
  {
   "cell_type": "markdown",
   "id": "1df5b3b0",
   "metadata": {},
   "source": [
    "### Stroke"
   ]
  },
  {
   "cell_type": "code",
   "execution_count": 10,
   "id": "1820be1a",
   "metadata": {},
   "outputs": [
    {
     "data": {
      "text/plain": [
       "No     307261\n",
       "Yes     12042\n",
       "Name: Stroke, dtype: int64"
      ]
     },
     "execution_count": 10,
     "metadata": {},
     "output_type": "execute_result"
    }
   ],
   "source": [
    "df[\"Stroke\"].value_counts()"
   ]
  },
  {
   "cell_type": "markdown",
   "id": "17a9aa91",
   "metadata": {},
   "source": [
    "### PhysicalHealth"
   ]
  },
  {
   "cell_type": "code",
   "execution_count": 11,
   "id": "acb2259c",
   "metadata": {},
   "outputs": [
    {
     "data": {
      "text/plain": [
       "(0.0     226372\n",
       " 30.0     19402\n",
       " 2.0      14860\n",
       " 1.0      10479\n",
       " 3.0       8600\n",
       " 5.0       7585\n",
       " 10.0      5443\n",
       " 15.0      4991\n",
       " 7.0       4616\n",
       " 4.0       4456\n",
       " 20.0      3200\n",
       " 14.0      2888\n",
       " 6.0       1269\n",
       " 25.0      1157\n",
       " 8.0        924\n",
       " 21.0       622\n",
       " 12.0       602\n",
       " 28.0       443\n",
       " 29.0       203\n",
       " 9.0        179\n",
       " 18.0       167\n",
       " 16.0       135\n",
       " 27.0       124\n",
       " 17.0       110\n",
       " 13.0        90\n",
       " 22.0        88\n",
       " 11.0        85\n",
       " 24.0        66\n",
       " 26.0        66\n",
       " 23.0        46\n",
       " 19.0        35\n",
       " Name: PhysicalHealth, dtype: int64,\n",
       " 0.0     205165\n",
       " 30.0     17294\n",
       " 2.0      16469\n",
       " 5.0      14127\n",
       " 10.0     10491\n",
       " 3.0      10449\n",
       " 15.0      9872\n",
       " 1.0       9278\n",
       " 7.0       5524\n",
       " 20.0      5417\n",
       " 4.0       5371\n",
       " 14.0      2042\n",
       " 25.0      1952\n",
       " 6.0       1505\n",
       " 8.0       1090\n",
       " 12.0       755\n",
       " 28.0       514\n",
       " 21.0       351\n",
       " 29.0       315\n",
       " 18.0       210\n",
       " 9.0        202\n",
       " 16.0       152\n",
       " 17.0       128\n",
       " 27.0       125\n",
       " 13.0       110\n",
       " 22.0        98\n",
       " 11.0        82\n",
       " 23.0        68\n",
       " 24.0        67\n",
       " 26.0        59\n",
       " 19.0        21\n",
       " Name: MentalHealth, dtype: int64)"
      ]
     },
     "execution_count": 11,
     "metadata": {},
     "output_type": "execute_result"
    }
   ],
   "source": [
    "df[\"PhysicalHealth\"].value_counts(), df['MentalHealth'].value_counts()"
   ]
  },
  {
   "cell_type": "markdown",
   "id": "fd249e4a",
   "metadata": {},
   "source": [
    "PhysicalHealth == 0?"
   ]
  },
  {
   "cell_type": "markdown",
   "id": "92a36e29",
   "metadata": {},
   "source": [
    "## Обработка данных "
   ]
  },
  {
   "cell_type": "code",
   "execution_count": 12,
   "id": "cbfc8682",
   "metadata": {},
   "outputs": [
    {
     "data": {
      "text/html": [
       "<div>\n",
       "<style scoped>\n",
       "    .dataframe tbody tr th:only-of-type {\n",
       "        vertical-align: middle;\n",
       "    }\n",
       "\n",
       "    .dataframe tbody tr th {\n",
       "        vertical-align: top;\n",
       "    }\n",
       "\n",
       "    .dataframe thead th {\n",
       "        text-align: right;\n",
       "    }\n",
       "</style>\n",
       "<table border=\"1\" class=\"dataframe\">\n",
       "  <thead>\n",
       "    <tr style=\"text-align: right;\">\n",
       "      <th></th>\n",
       "      <th>HeartDisease</th>\n",
       "      <th>BMI</th>\n",
       "      <th>Smoking</th>\n",
       "      <th>AlcoholDrinking</th>\n",
       "      <th>Stroke</th>\n",
       "      <th>PhysicalHealth</th>\n",
       "      <th>MentalHealth</th>\n",
       "      <th>DiffWalking</th>\n",
       "      <th>Sex</th>\n",
       "      <th>AgeCategory</th>\n",
       "      <th>Race</th>\n",
       "      <th>Diabetic</th>\n",
       "      <th>PhysicalActivity</th>\n",
       "      <th>GenHealth</th>\n",
       "      <th>SleepTime</th>\n",
       "      <th>Asthma</th>\n",
       "      <th>KidneyDisease</th>\n",
       "      <th>SkinCancer</th>\n",
       "    </tr>\n",
       "  </thead>\n",
       "  <tbody>\n",
       "    <tr>\n",
       "      <th>0</th>\n",
       "      <td>No</td>\n",
       "      <td>16.60</td>\n",
       "      <td>Yes</td>\n",
       "      <td>No</td>\n",
       "      <td>No</td>\n",
       "      <td>3.0</td>\n",
       "      <td>30.0</td>\n",
       "      <td>No</td>\n",
       "      <td>Female</td>\n",
       "      <td>55-59</td>\n",
       "      <td>White</td>\n",
       "      <td>Yes</td>\n",
       "      <td>Yes</td>\n",
       "      <td>Very good</td>\n",
       "      <td>5.0</td>\n",
       "      <td>Yes</td>\n",
       "      <td>No</td>\n",
       "      <td>Yes</td>\n",
       "    </tr>\n",
       "    <tr>\n",
       "      <th>1</th>\n",
       "      <td>No</td>\n",
       "      <td>20.34</td>\n",
       "      <td>No</td>\n",
       "      <td>No</td>\n",
       "      <td>Yes</td>\n",
       "      <td>0.0</td>\n",
       "      <td>0.0</td>\n",
       "      <td>No</td>\n",
       "      <td>Female</td>\n",
       "      <td>80 or older</td>\n",
       "      <td>White</td>\n",
       "      <td>No</td>\n",
       "      <td>Yes</td>\n",
       "      <td>Very good</td>\n",
       "      <td>7.0</td>\n",
       "      <td>No</td>\n",
       "      <td>No</td>\n",
       "      <td>No</td>\n",
       "    </tr>\n",
       "    <tr>\n",
       "      <th>2</th>\n",
       "      <td>No</td>\n",
       "      <td>26.58</td>\n",
       "      <td>Yes</td>\n",
       "      <td>No</td>\n",
       "      <td>No</td>\n",
       "      <td>20.0</td>\n",
       "      <td>30.0</td>\n",
       "      <td>No</td>\n",
       "      <td>Male</td>\n",
       "      <td>65-69</td>\n",
       "      <td>White</td>\n",
       "      <td>Yes</td>\n",
       "      <td>Yes</td>\n",
       "      <td>Fair</td>\n",
       "      <td>8.0</td>\n",
       "      <td>Yes</td>\n",
       "      <td>No</td>\n",
       "      <td>No</td>\n",
       "    </tr>\n",
       "    <tr>\n",
       "      <th>3</th>\n",
       "      <td>No</td>\n",
       "      <td>24.21</td>\n",
       "      <td>No</td>\n",
       "      <td>No</td>\n",
       "      <td>No</td>\n",
       "      <td>0.0</td>\n",
       "      <td>0.0</td>\n",
       "      <td>No</td>\n",
       "      <td>Female</td>\n",
       "      <td>75-79</td>\n",
       "      <td>White</td>\n",
       "      <td>No</td>\n",
       "      <td>No</td>\n",
       "      <td>Good</td>\n",
       "      <td>6.0</td>\n",
       "      <td>No</td>\n",
       "      <td>No</td>\n",
       "      <td>Yes</td>\n",
       "    </tr>\n",
       "    <tr>\n",
       "      <th>4</th>\n",
       "      <td>No</td>\n",
       "      <td>23.71</td>\n",
       "      <td>No</td>\n",
       "      <td>No</td>\n",
       "      <td>No</td>\n",
       "      <td>28.0</td>\n",
       "      <td>0.0</td>\n",
       "      <td>Yes</td>\n",
       "      <td>Female</td>\n",
       "      <td>40-44</td>\n",
       "      <td>White</td>\n",
       "      <td>No</td>\n",
       "      <td>Yes</td>\n",
       "      <td>Very good</td>\n",
       "      <td>8.0</td>\n",
       "      <td>No</td>\n",
       "      <td>No</td>\n",
       "      <td>No</td>\n",
       "    </tr>\n",
       "    <tr>\n",
       "      <th>...</th>\n",
       "      <td>...</td>\n",
       "      <td>...</td>\n",
       "      <td>...</td>\n",
       "      <td>...</td>\n",
       "      <td>...</td>\n",
       "      <td>...</td>\n",
       "      <td>...</td>\n",
       "      <td>...</td>\n",
       "      <td>...</td>\n",
       "      <td>...</td>\n",
       "      <td>...</td>\n",
       "      <td>...</td>\n",
       "      <td>...</td>\n",
       "      <td>...</td>\n",
       "      <td>...</td>\n",
       "      <td>...</td>\n",
       "      <td>...</td>\n",
       "      <td>...</td>\n",
       "    </tr>\n",
       "    <tr>\n",
       "      <th>319790</th>\n",
       "      <td>Yes</td>\n",
       "      <td>27.41</td>\n",
       "      <td>Yes</td>\n",
       "      <td>No</td>\n",
       "      <td>No</td>\n",
       "      <td>7.0</td>\n",
       "      <td>0.0</td>\n",
       "      <td>Yes</td>\n",
       "      <td>Male</td>\n",
       "      <td>60-64</td>\n",
       "      <td>Hispanic</td>\n",
       "      <td>Yes</td>\n",
       "      <td>No</td>\n",
       "      <td>Fair</td>\n",
       "      <td>6.0</td>\n",
       "      <td>Yes</td>\n",
       "      <td>No</td>\n",
       "      <td>No</td>\n",
       "    </tr>\n",
       "    <tr>\n",
       "      <th>319791</th>\n",
       "      <td>No</td>\n",
       "      <td>29.84</td>\n",
       "      <td>Yes</td>\n",
       "      <td>No</td>\n",
       "      <td>No</td>\n",
       "      <td>0.0</td>\n",
       "      <td>0.0</td>\n",
       "      <td>No</td>\n",
       "      <td>Male</td>\n",
       "      <td>35-39</td>\n",
       "      <td>Hispanic</td>\n",
       "      <td>No</td>\n",
       "      <td>Yes</td>\n",
       "      <td>Very good</td>\n",
       "      <td>5.0</td>\n",
       "      <td>Yes</td>\n",
       "      <td>No</td>\n",
       "      <td>No</td>\n",
       "    </tr>\n",
       "    <tr>\n",
       "      <th>319792</th>\n",
       "      <td>No</td>\n",
       "      <td>24.24</td>\n",
       "      <td>No</td>\n",
       "      <td>No</td>\n",
       "      <td>No</td>\n",
       "      <td>0.0</td>\n",
       "      <td>0.0</td>\n",
       "      <td>No</td>\n",
       "      <td>Female</td>\n",
       "      <td>45-49</td>\n",
       "      <td>Hispanic</td>\n",
       "      <td>No</td>\n",
       "      <td>Yes</td>\n",
       "      <td>Good</td>\n",
       "      <td>6.0</td>\n",
       "      <td>No</td>\n",
       "      <td>No</td>\n",
       "      <td>No</td>\n",
       "    </tr>\n",
       "    <tr>\n",
       "      <th>319793</th>\n",
       "      <td>No</td>\n",
       "      <td>32.81</td>\n",
       "      <td>No</td>\n",
       "      <td>No</td>\n",
       "      <td>No</td>\n",
       "      <td>0.0</td>\n",
       "      <td>0.0</td>\n",
       "      <td>No</td>\n",
       "      <td>Female</td>\n",
       "      <td>25-29</td>\n",
       "      <td>Hispanic</td>\n",
       "      <td>No</td>\n",
       "      <td>No</td>\n",
       "      <td>Good</td>\n",
       "      <td>12.0</td>\n",
       "      <td>No</td>\n",
       "      <td>No</td>\n",
       "      <td>No</td>\n",
       "    </tr>\n",
       "    <tr>\n",
       "      <th>319794</th>\n",
       "      <td>No</td>\n",
       "      <td>46.56</td>\n",
       "      <td>No</td>\n",
       "      <td>No</td>\n",
       "      <td>No</td>\n",
       "      <td>0.0</td>\n",
       "      <td>0.0</td>\n",
       "      <td>No</td>\n",
       "      <td>Female</td>\n",
       "      <td>80 or older</td>\n",
       "      <td>Hispanic</td>\n",
       "      <td>No</td>\n",
       "      <td>Yes</td>\n",
       "      <td>Good</td>\n",
       "      <td>8.0</td>\n",
       "      <td>No</td>\n",
       "      <td>No</td>\n",
       "      <td>No</td>\n",
       "    </tr>\n",
       "  </tbody>\n",
       "</table>\n",
       "<p>319303 rows × 18 columns</p>\n",
       "</div>"
      ],
      "text/plain": [
       "       HeartDisease    BMI Smoking AlcoholDrinking Stroke  PhysicalHealth  \\\n",
       "0                No  16.60     Yes              No     No             3.0   \n",
       "1                No  20.34      No              No    Yes             0.0   \n",
       "2                No  26.58     Yes              No     No            20.0   \n",
       "3                No  24.21      No              No     No             0.0   \n",
       "4                No  23.71      No              No     No            28.0   \n",
       "...             ...    ...     ...             ...    ...             ...   \n",
       "319790          Yes  27.41     Yes              No     No             7.0   \n",
       "319791           No  29.84     Yes              No     No             0.0   \n",
       "319792           No  24.24      No              No     No             0.0   \n",
       "319793           No  32.81      No              No     No             0.0   \n",
       "319794           No  46.56      No              No     No             0.0   \n",
       "\n",
       "        MentalHealth DiffWalking     Sex  AgeCategory      Race Diabetic  \\\n",
       "0               30.0          No  Female        55-59     White      Yes   \n",
       "1                0.0          No  Female  80 or older     White       No   \n",
       "2               30.0          No    Male        65-69     White      Yes   \n",
       "3                0.0          No  Female        75-79     White       No   \n",
       "4                0.0         Yes  Female        40-44     White       No   \n",
       "...              ...         ...     ...          ...       ...      ...   \n",
       "319790           0.0         Yes    Male        60-64  Hispanic      Yes   \n",
       "319791           0.0          No    Male        35-39  Hispanic       No   \n",
       "319792           0.0          No  Female        45-49  Hispanic       No   \n",
       "319793           0.0          No  Female        25-29  Hispanic       No   \n",
       "319794           0.0          No  Female  80 or older  Hispanic       No   \n",
       "\n",
       "       PhysicalActivity  GenHealth  SleepTime Asthma KidneyDisease SkinCancer  \n",
       "0                   Yes  Very good        5.0    Yes            No        Yes  \n",
       "1                   Yes  Very good        7.0     No            No         No  \n",
       "2                   Yes       Fair        8.0    Yes            No         No  \n",
       "3                    No       Good        6.0     No            No        Yes  \n",
       "4                   Yes  Very good        8.0     No            No         No  \n",
       "...                 ...        ...        ...    ...           ...        ...  \n",
       "319790               No       Fair        6.0    Yes            No         No  \n",
       "319791              Yes  Very good        5.0    Yes            No         No  \n",
       "319792              Yes       Good        6.0     No            No         No  \n",
       "319793               No       Good       12.0     No            No         No  \n",
       "319794              Yes       Good        8.0     No            No         No  \n",
       "\n",
       "[319303 rows x 18 columns]"
      ]
     },
     "execution_count": 12,
     "metadata": {},
     "output_type": "execute_result"
    }
   ],
   "source": [
    "df"
   ]
  },
  {
   "cell_type": "markdown",
   "id": "b8bf3c2d",
   "metadata": {},
   "source": [
    "### Замена категориальных на вещественные"
   ]
  },
  {
   "cell_type": "code",
   "execution_count": 51,
   "id": "f530cf2a",
   "metadata": {},
   "outputs": [],
   "source": [
    "categorical_columns = [c for c in df.columns if df[c].dtype.name == 'object']\n",
    "numerical_columns   = [c for c in df.columns if df[c].dtype.name != 'object']"
   ]
  },
  {
   "cell_type": "code",
   "execution_count": 52,
   "id": "e963664f",
   "metadata": {},
   "outputs": [],
   "source": [
    "data_describe = df.describe(include=[object])"
   ]
  },
  {
   "cell_type": "code",
   "execution_count": 53,
   "id": "48566bc1",
   "metadata": {},
   "outputs": [],
   "source": [
    "binary_columns = [c for c in categorical_columns if df.describe(include=[object])[c]['unique'] == 2]"
   ]
  },
  {
   "cell_type": "code",
   "execution_count": 54,
   "id": "2da8b475",
   "metadata": {},
   "outputs": [],
   "source": [
    "binary_columns    = [c for c in categorical_columns if df.describe(include=[object])[c]['unique'] == 2]\n",
    "nonbinary_columns = [c for c in categorical_columns if df.describe(include=[object])[c]['unique'] > 2]"
   ]
  },
  {
   "cell_type": "code",
   "execution_count": 55,
   "id": "0811cbc0",
   "metadata": {},
   "outputs": [],
   "source": [
    "for c in binary_columns[1:]:\n",
    "    top = data_describe[c]['top']\n",
    "    top_items = df[c] == top\n",
    "    df.loc[top_items, c] = 0\n",
    "    df.loc[np.logical_not(top_items), c] = 1"
   ]
  },
  {
   "cell_type": "code",
   "execution_count": 56,
   "id": "9561cb62",
   "metadata": {},
   "outputs": [],
   "source": [
    "binary_to_numbers  = {'Yes': 1, 'No': 0}\n",
    "df['HeartDisease'] = df['HeartDisease'].replace(binary_to_numbers)"
   ]
  },
  {
   "cell_type": "code",
   "execution_count": 20,
   "id": "87abdb35",
   "metadata": {},
   "outputs": [
    {
     "data": {
      "text/plain": [
       "['HeartDisease',\n",
       " 'Smoking',\n",
       " 'AlcoholDrinking',\n",
       " 'Stroke',\n",
       " 'DiffWalking',\n",
       " 'Sex',\n",
       " 'PhysicalActivity',\n",
       " 'Asthma',\n",
       " 'KidneyDisease',\n",
       " 'SkinCancer']"
      ]
     },
     "execution_count": 20,
     "metadata": {},
     "output_type": "execute_result"
    }
   ],
   "source": [
    "binary_columns"
   ]
  },
  {
   "cell_type": "code",
   "execution_count": 57,
   "id": "a0550314",
   "metadata": {},
   "outputs": [],
   "source": [
    "for i in binary_columns:\n",
    "    df[i] = df[i].astype(int)"
   ]
  },
  {
   "cell_type": "code",
   "execution_count": 58,
   "id": "fc3522a1",
   "metadata": {},
   "outputs": [
    {
     "data": {
      "text/plain": [
       "Index(['AgeCategory_18-24', 'AgeCategory_25-29', 'AgeCategory_30-34',\n",
       "       'AgeCategory_35-39', 'AgeCategory_40-44', 'AgeCategory_45-49',\n",
       "       'AgeCategory_50-54', 'AgeCategory_55-59', 'AgeCategory_60-64',\n",
       "       'AgeCategory_65-69', 'AgeCategory_70-74', 'AgeCategory_75-79',\n",
       "       'AgeCategory_80 or older', 'Race_American Indian/Alaskan Native',\n",
       "       'Race_Asian', 'Race_Black', 'Race_Hispanic', 'Race_Other', 'Race_White',\n",
       "       'Diabetic_No', 'Diabetic_No, borderline diabetes', 'Diabetic_Yes',\n",
       "       'Diabetic_Yes (during pregnancy)', 'GenHealth_Excellent',\n",
       "       'GenHealth_Fair', 'GenHealth_Good', 'GenHealth_Poor',\n",
       "       'GenHealth_Very good'],\n",
       "      dtype='object')"
      ]
     },
     "execution_count": 58,
     "metadata": {},
     "output_type": "execute_result"
    }
   ],
   "source": [
    "data_nonbinary = pd.get_dummies(df[nonbinary_columns])\n",
    "data_nonbinary.columns"
   ]
  },
  {
   "cell_type": "code",
   "execution_count": 34,
   "id": "0dec26b6",
   "metadata": {},
   "outputs": [
    {
     "name": "stdout",
     "output_type": "stream",
     "text": [
      "<class 'pandas.core.frame.DataFrame'>\n",
      "RangeIndex: 319795 entries, 0 to 319794\n",
      "Data columns (total 18 columns):\n",
      " #   Column            Non-Null Count   Dtype  \n",
      "---  ------            --------------   -----  \n",
      " 0   HeartDisease      319795 non-null  int32  \n",
      " 1   BMI               319795 non-null  float64\n",
      " 2   Smoking           319795 non-null  int32  \n",
      " 3   AlcoholDrinking   319795 non-null  int32  \n",
      " 4   Stroke            319795 non-null  int32  \n",
      " 5   PhysicalHealth    319795 non-null  float64\n",
      " 6   MentalHealth      319795 non-null  float64\n",
      " 7   DiffWalking       319795 non-null  int32  \n",
      " 8   Sex               319795 non-null  int32  \n",
      " 9   AgeCategory       319795 non-null  object \n",
      " 10  Race              319795 non-null  object \n",
      " 11  Diabetic          319795 non-null  object \n",
      " 12  PhysicalActivity  319795 non-null  int32  \n",
      " 13  GenHealth         319795 non-null  object \n",
      " 14  SleepTime         319795 non-null  float64\n",
      " 15  Asthma            319795 non-null  int32  \n",
      " 16  KidneyDisease     319795 non-null  int32  \n",
      " 17  SkinCancer        319795 non-null  int32  \n",
      "dtypes: float64(4), int32(10), object(4)\n",
      "memory usage: 31.7+ MB\n"
     ]
    }
   ],
   "source": [
    "df.info()"
   ]
  },
  {
   "cell_type": "code",
   "execution_count": 59,
   "id": "b30ad4f8",
   "metadata": {},
   "outputs": [],
   "source": [
    "df = pd.concat((df[numerical_columns], df[binary_columns], pd.get_dummies(df[nonbinary_columns])), axis=1)"
   ]
  },
  {
   "cell_type": "code",
   "execution_count": 60,
   "id": "627daa7d",
   "metadata": {},
   "outputs": [
    {
     "name": "stdout",
     "output_type": "stream",
     "text": [
      "<class 'pandas.core.frame.DataFrame'>\n",
      "RangeIndex: 319795 entries, 0 to 319794\n",
      "Data columns (total 42 columns):\n",
      " #   Column                               Non-Null Count   Dtype  \n",
      "---  ------                               --------------   -----  \n",
      " 0   BMI                                  319795 non-null  float64\n",
      " 1   PhysicalHealth                       319795 non-null  float64\n",
      " 2   MentalHealth                         319795 non-null  float64\n",
      " 3   SleepTime                            319795 non-null  float64\n",
      " 4   HeartDisease                         319795 non-null  int32  \n",
      " 5   Smoking                              319795 non-null  int32  \n",
      " 6   AlcoholDrinking                      319795 non-null  int32  \n",
      " 7   Stroke                               319795 non-null  int32  \n",
      " 8   DiffWalking                          319795 non-null  int32  \n",
      " 9   Sex                                  319795 non-null  int32  \n",
      " 10  PhysicalActivity                     319795 non-null  int32  \n",
      " 11  Asthma                               319795 non-null  int32  \n",
      " 12  KidneyDisease                        319795 non-null  int32  \n",
      " 13  SkinCancer                           319795 non-null  int32  \n",
      " 14  AgeCategory_18-24                    319795 non-null  uint8  \n",
      " 15  AgeCategory_25-29                    319795 non-null  uint8  \n",
      " 16  AgeCategory_30-34                    319795 non-null  uint8  \n",
      " 17  AgeCategory_35-39                    319795 non-null  uint8  \n",
      " 18  AgeCategory_40-44                    319795 non-null  uint8  \n",
      " 19  AgeCategory_45-49                    319795 non-null  uint8  \n",
      " 20  AgeCategory_50-54                    319795 non-null  uint8  \n",
      " 21  AgeCategory_55-59                    319795 non-null  uint8  \n",
      " 22  AgeCategory_60-64                    319795 non-null  uint8  \n",
      " 23  AgeCategory_65-69                    319795 non-null  uint8  \n",
      " 24  AgeCategory_70-74                    319795 non-null  uint8  \n",
      " 25  AgeCategory_75-79                    319795 non-null  uint8  \n",
      " 26  AgeCategory_80 or older              319795 non-null  uint8  \n",
      " 27  Race_American Indian/Alaskan Native  319795 non-null  uint8  \n",
      " 28  Race_Asian                           319795 non-null  uint8  \n",
      " 29  Race_Black                           319795 non-null  uint8  \n",
      " 30  Race_Hispanic                        319795 non-null  uint8  \n",
      " 31  Race_Other                           319795 non-null  uint8  \n",
      " 32  Race_White                           319795 non-null  uint8  \n",
      " 33  Diabetic_No                          319795 non-null  uint8  \n",
      " 34  Diabetic_No, borderline diabetes     319795 non-null  uint8  \n",
      " 35  Diabetic_Yes                         319795 non-null  uint8  \n",
      " 36  Diabetic_Yes (during pregnancy)      319795 non-null  uint8  \n",
      " 37  GenHealth_Excellent                  319795 non-null  uint8  \n",
      " 38  GenHealth_Fair                       319795 non-null  uint8  \n",
      " 39  GenHealth_Good                       319795 non-null  uint8  \n",
      " 40  GenHealth_Poor                       319795 non-null  uint8  \n",
      " 41  GenHealth_Very good                  319795 non-null  uint8  \n",
      "dtypes: float64(4), int32(10), uint8(28)\n",
      "memory usage: 30.5 MB\n"
     ]
    }
   ],
   "source": [
    "df.info()"
   ]
  },
  {
   "cell_type": "markdown",
   "id": "6c4c9faa",
   "metadata": {},
   "source": [
    "## Разбиение данных на train и test"
   ]
  },
  {
   "cell_type": "code",
   "execution_count": 62,
   "id": "9a374776",
   "metadata": {},
   "outputs": [],
   "source": [
    "from sklearn.model_selection import train_test_split, cross_val_score"
   ]
  },
  {
   "cell_type": "code",
   "execution_count": 63,
   "id": "595e5b0f",
   "metadata": {},
   "outputs": [],
   "source": [
    "X = df.drop(columns = 'SkinCancer')\n",
    "y = df['SkinCancer']"
   ]
  },
  {
   "cell_type": "code",
   "execution_count": 64,
   "id": "aa7d7c78",
   "metadata": {},
   "outputs": [],
   "source": [
    "X_train, X_test, y_train, y_test = train_test_split(X, y, test_size=0.33, shuffle=True, random_state=42)"
   ]
  },
  {
   "cell_type": "code",
   "execution_count": 68,
   "id": "f8afc1ac",
   "metadata": {},
   "outputs": [
    {
     "data": {
      "text/plain": [
       "0    194295\n",
       "1     19967\n",
       "Name: SkinCancer, dtype: int64"
      ]
     },
     "execution_count": 68,
     "metadata": {},
     "output_type": "execute_result"
    }
   ],
   "source": [
    "y_train.value_counts()"
   ]
  },
  {
   "cell_type": "markdown",
   "id": "70c3cd40",
   "metadata": {},
   "source": [
    "## Построение модели"
   ]
  },
  {
   "cell_type": "code",
   "execution_count": 69,
   "id": "38d0a2d7",
   "metadata": {},
   "outputs": [],
   "source": [
    "from sklearn.naive_bayes import GaussianNB\n",
    "from sklearn.linear_model import LogisticRegression\n",
    "from sklearn import tree\n",
    "from sklearn import ensemble"
   ]
  },
  {
   "cell_type": "code",
   "execution_count": 70,
   "id": "9524075a",
   "metadata": {},
   "outputs": [],
   "source": [
    "import sklearn.metrics"
   ]
  },
  {
   "cell_type": "markdown",
   "id": "89444d16",
   "metadata": {},
   "source": [
    "### Наивные Байес без Семплирования"
   ]
  },
  {
   "cell_type": "code",
   "execution_count": 72,
   "id": "b256d90d",
   "metadata": {},
   "outputs": [],
   "source": [
    "gnb = GaussianNB()\n",
    "y_pred = gnb.fit(X_train, y_train).predict(X_test)"
   ]
  },
  {
   "cell_type": "code",
   "execution_count": 73,
   "id": "299ed838",
   "metadata": {},
   "outputs": [
    {
     "name": "stdout",
     "output_type": "stream",
     "text": [
      "Number of mislabeled points out of a total 105533 points : 46223\n",
      "f1 = 0.27651082345943745, accuracy = 0.562004301971895, precision = 0.16346207228380555, recall = 0.8965692245229395\n"
     ]
    }
   ],
   "source": [
    "print(\"Number of mislabeled points out of a total %d points : %d\"\n",
    "...       % (X_test.shape[0], (y_test != y_pred).sum()))\n",
    "\n",
    "print(f'f1 = {sklearn.metrics.f1_score(y_test, y_pred)}, accuracy = {sklearn.metrics.accuracy_score(y_test, y_pred)}, '\n",
    "      f'precision = {sklearn.metrics.precision_score(y_test, y_pred)}, recall = {sklearn.metrics.recall_score(y_test, y_pred)}')"
   ]
  },
  {
   "cell_type": "markdown",
   "id": "02b43f9a",
   "metadata": {},
   "source": [
    "### Рандомный лес без Сэмплирования"
   ]
  },
  {
   "cell_type": "code",
   "execution_count": 74,
   "id": "e17c33d6",
   "metadata": {},
   "outputs": [],
   "source": [
    "rf = ensemble.RandomForestClassifier(n_estimators=100, random_state=11)\n",
    "y_rfpred = rf.fit(X_train, y_train).predict(X_test)"
   ]
  },
  {
   "cell_type": "code",
   "execution_count": 75,
   "id": "c81eed6f",
   "metadata": {},
   "outputs": [
    {
     "name": "stdout",
     "output_type": "stream",
     "text": [
      "Number of mislabeled points out of a total 105533 points : 11933\n",
      "f1 = 0.11535325079694567, accuracy = 0.8869263642652061, precision = 0.2139125653010723, recall = 0.07896873731222087\n"
     ]
    }
   ],
   "source": [
    "print(\"Number of mislabeled points out of a total %d points : %d\"\n",
    "...       % (X_test.shape[0], (y_test != y_rfpred).sum()))\n",
    "\n",
    "print(f'f1 = {sklearn.metrics.f1_score(y_test, y_rfpred)}, accuracy = {sklearn.metrics.accuracy_score(y_test, y_rfpred)}, '\n",
    "      f'precision = {sklearn.metrics.precision_score(y_test, y_rfpred)}, recall = {sklearn.metrics.recall_score(y_test, y_rfpred)}')"
   ]
  },
  {
   "cell_type": "markdown",
   "id": "44cfd09d",
   "metadata": {},
   "source": [
    "### Дерево решений без Сэмплирования"
   ]
  },
  {
   "cell_type": "code",
   "execution_count": 76,
   "id": "3449fa31",
   "metadata": {},
   "outputs": [],
   "source": [
    "dct = tree.DecisionTreeClassifier()\n",
    "dct_y_pred = dct.fit(X_train, y_train).predict(X_test)"
   ]
  },
  {
   "cell_type": "code",
   "execution_count": 77,
   "id": "6a09c2b3",
   "metadata": {},
   "outputs": [
    {
     "name": "stdout",
     "output_type": "stream",
     "text": [
      "Number of mislabeled points out of a total 105533 points : 16791\n",
      "f1 = 0.18942795076031863, accuracy = 0.8408933698463987, precision = 0.18061309030654515, recall = 0.19914738124238734\n"
     ]
    }
   ],
   "source": [
    "print(\"Number of mislabeled points out of a total %d points : %d\"\n",
    "...       % (X_test.shape[0], (y_test != dct_y_pred).sum()))\n",
    "\n",
    "print(f'f1 = {sklearn.metrics.f1_score(y_test, dct_y_pred)}, accuracy = {sklearn.metrics.accuracy_score(y_test, dct_y_pred)}, '\n",
    "      f'precision = {sklearn.metrics.precision_score(y_test, dct_y_pred)}, recall = {sklearn.metrics.recall_score(y_test, dct_y_pred)}')"
   ]
  },
  {
   "cell_type": "markdown",
   "id": "1e72e6e0",
   "metadata": {},
   "source": [
    "### Наивный Байес после Сэмплирования"
   ]
  },
  {
   "cell_type": "code",
   "execution_count": 78,
   "id": "1f3fb9bd",
   "metadata": {},
   "outputs": [],
   "source": [
    "from imblearn.under_sampling import RandomUnderSampler "
   ]
  },
  {
   "cell_type": "code",
   "execution_count": 79,
   "id": "467c2a94",
   "metadata": {},
   "outputs": [],
   "source": [
    "from imblearn.over_sampling import RandomOverSampler "
   ]
  },
  {
   "cell_type": "code",
   "execution_count": 80,
   "id": "42d8c7b1",
   "metadata": {},
   "outputs": [],
   "source": [
    "undersampler = RandomUnderSampler(sampling_strategy='majority')\n",
    "\n",
    "X_under, y_under = undersampler.fit_resample(X, y)\n",
    "\n",
    "X_utrain, X_utest, y_utrain, y_utest = train_test_split(X_under, y_under, test_size=0.33, shuffle=True, random_state=42)"
   ]
  },
  {
   "cell_type": "code",
   "execution_count": 81,
   "id": "ae612f2b",
   "metadata": {},
   "outputs": [],
   "source": [
    "oversampler = RandomOverSampler(sampling_strategy='minority')\n",
    "\n",
    "X_over, y_over = oversampler.fit_resample(X, y)\n",
    "\n",
    "X_otrain, X_otest, y_otrain, y_otest = train_test_split(X_over, y_over, test_size=0.33, shuffle=True, random_state=42)"
   ]
  },
  {
   "cell_type": "code",
   "execution_count": 84,
   "id": "34dbce82",
   "metadata": {},
   "outputs": [],
   "source": [
    "gnb = GaussianNB()\n",
    "y_pred = gnb.fit(X_otrain, y_otrain).predict(X_otest)"
   ]
  },
  {
   "cell_type": "code",
   "execution_count": 85,
   "id": "7fd0f801",
   "metadata": {},
   "outputs": [
    {
     "name": "stdout",
     "output_type": "stream",
     "text": [
      "f1 = 0.7606939059024206, accuracy = 0.7155785458630509, precision = 0.6563391394064454, recall = 0.9045060115002613\n"
     ]
    }
   ],
   "source": [
    "print(f'f1 = {sklearn.metrics.f1_score(y_otest, y_pred)}, accuracy = {sklearn.metrics.accuracy_score(y_otest, y_pred)}, '\n",
    "      f'precision = {sklearn.metrics.precision_score(y_otest, y_pred)}, recall = {sklearn.metrics.recall_score(y_otest, y_pred)}')"
   ]
  },
  {
   "cell_type": "code",
   "execution_count": 86,
   "id": "3fc2e544",
   "metadata": {},
   "outputs": [],
   "source": [
    "gnb = GaussianNB()\n",
    "y_pred = gnb.fit(X_utrain, y_utrain).predict(X_utest)"
   ]
  },
  {
   "cell_type": "code",
   "execution_count": 87,
   "id": "80f4d54d",
   "metadata": {},
   "outputs": [
    {
     "name": "stdout",
     "output_type": "stream",
     "text": [
      "Number of mislabeled points out of a total 19681 points : 5605\n",
      "f1 = 0.7627312365067942, accuracy = 0.7152075605914333, precision = 0.6573513316307917, recall = 0.9083484573502723\n"
     ]
    }
   ],
   "source": [
    "print(\"Number of mislabeled points out of a total %d points : %d\"\n",
    "...       % (X_utest.shape[0], (y_utest != y_pred).sum()))\n",
    "\n",
    "print(f'f1 = {sklearn.metrics.f1_score(y_utest, y_pred)}, accuracy = {sklearn.metrics.accuracy_score(y_utest, y_pred)}, '\n",
    "      f'precision = {sklearn.metrics.precision_score(y_utest, y_pred)}, recall = {sklearn.metrics.recall_score(y_utest, y_pred)}')"
   ]
  },
  {
   "cell_type": "markdown",
   "id": "c9bda83a",
   "metadata": {},
   "source": [
    "## Рандомный лес после Сэмплирования"
   ]
  },
  {
   "cell_type": "code",
   "execution_count": 88,
   "id": "1aafa260",
   "metadata": {},
   "outputs": [],
   "source": [
    "rf = ensemble.RandomForestClassifier(n_estimators=100, random_state=11)\n",
    "y_rfpred = rf.fit(X_utrain, y_utrain).predict(X_utest)"
   ]
  },
  {
   "cell_type": "code",
   "execution_count": 89,
   "id": "b05a0ad0",
   "metadata": {},
   "outputs": [
    {
     "name": "stdout",
     "output_type": "stream",
     "text": [
      "Number of mislabeled points out of a total 19681 points : 5967\n",
      "f1 = 0.7076862783520305, accuracy = 0.6968141862710228, precision = 0.6882324916626965, recall = 0.7282718289977818\n"
     ]
    }
   ],
   "source": [
    "print(\"Number of mislabeled points out of a total %d points : %d\"\n",
    "...       % (X_utest.shape[0], (y_utest != y_rfpred).sum()))\n",
    "\n",
    "print(f'f1 = {sklearn.metrics.f1_score(y_utest, y_rfpred)}, accuracy = {sklearn.metrics.accuracy_score(y_utest, y_rfpred)}, '\n",
    "      f'precision = {sklearn.metrics.precision_score(y_utest, y_rfpred)}, recall = {sklearn.metrics.recall_score(y_utest, y_rfpred)}')"
   ]
  },
  {
   "cell_type": "code",
   "execution_count": 90,
   "id": "b076cc60",
   "metadata": {},
   "outputs": [],
   "source": [
    "rf = ensemble.RandomForestClassifier(n_estimators=100, random_state=11)\n",
    "y_rfpred = rf.fit(X_otrain, y_otrain).predict(X_otest)"
   ]
  },
  {
   "cell_type": "code",
   "execution_count": 91,
   "id": "dd0079c9",
   "metadata": {},
   "outputs": [
    {
     "name": "stdout",
     "output_type": "stream",
     "text": [
      "Number of mislabeled points out of a total 191385 points : 9602\n",
      "f1 = 0.9520776978130022, accuracy = 0.9498288789612561, precision = 0.9108636693532984, recall = 0.9971981181390486\n"
     ]
    }
   ],
   "source": [
    "print(\"Number of mislabeled points out of a total %d points : %d\"\n",
    "...       % (X_otest.shape[0], (y_otest != y_rfpred).sum()))\n",
    "\n",
    "print(f'f1 = {sklearn.metrics.f1_score(y_otest, y_rfpred)}, accuracy = {sklearn.metrics.accuracy_score(y_otest, y_rfpred)}, '\n",
    "      f'precision = {sklearn.metrics.precision_score(y_otest, y_rfpred)}, recall = {sklearn.metrics.recall_score(y_otest, y_rfpred)}')"
   ]
  },
  {
   "cell_type": "code",
   "execution_count": 92,
   "id": "9532b39f",
   "metadata": {},
   "outputs": [
    {
     "data": {
      "text/plain": [
       "(array([0, 1]), array([ 86669, 104716], dtype=int64))"
      ]
     },
     "execution_count": 92,
     "metadata": {},
     "output_type": "execute_result"
    }
   ],
   "source": [
    "np.unique(y_rfpred, return_counts =True)"
   ]
  },
  {
   "cell_type": "markdown",
   "id": "a61626c7",
   "metadata": {},
   "source": [
    "### Дерево решений после Сэмплирования"
   ]
  },
  {
   "cell_type": "code",
   "execution_count": 93,
   "id": "81e0dcad",
   "metadata": {},
   "outputs": [],
   "source": [
    "dct = tree.DecisionTreeClassifier()\n",
    "dct_y_pred = dct.fit(X_utrain, y_utrain).predict(X_utest)"
   ]
  },
  {
   "cell_type": "code",
   "execution_count": 94,
   "id": "b7684172",
   "metadata": {},
   "outputs": [
    {
     "name": "stdout",
     "output_type": "stream",
     "text": [
      "Number of mislabeled points out of a total 19681 points : 7140\n",
      "f1 = 0.6354538956397426, accuracy = 0.6372135562217367, precision = 0.6436698386429458, recall = 0.627445049405122\n"
     ]
    }
   ],
   "source": [
    "print(\"Number of mislabeled points out of a total %d points : %d\"\n",
    "...       % (X_utest.shape[0], (y_utest != dct_y_pred).sum()))\n",
    "\n",
    "print(f'f1 = {sklearn.metrics.f1_score(y_utest, dct_y_pred)}, accuracy = {sklearn.metrics.accuracy_score(y_utest, dct_y_pred)}, '\n",
    "      f'precision = {sklearn.metrics.precision_score(y_utest, dct_y_pred)}, recall = {sklearn.metrics.recall_score(y_utest, dct_y_pred)}')"
   ]
  },
  {
   "cell_type": "code",
   "execution_count": 95,
   "id": "5c05cecf",
   "metadata": {},
   "outputs": [],
   "source": [
    "dct = tree.DecisionTreeClassifier()\n",
    "dct_y_pred = dct.fit(X_otrain, y_otrain).predict(X_otest)"
   ]
  },
  {
   "cell_type": "code",
   "execution_count": 96,
   "id": "7c30f8a9",
   "metadata": {},
   "outputs": [
    {
     "name": "stdout",
     "output_type": "stream",
     "text": [
      "Number of mislabeled points out of a total 191385 points : 12560\n",
      "f1 = 0.9382023577571785, accuracy = 0.93437312224051, precision = 0.8861274792274663, recall = 0.9967799268165185\n"
     ]
    }
   ],
   "source": [
    "print(\"Number of mislabeled points out of a total %d points : %d\"\n",
    "...       % (X_otest.shape[0], (y_otest != dct_y_pred).sum()))\n",
    "\n",
    "print(f'f1 = {sklearn.metrics.f1_score(y_otest, dct_y_pred)}, accuracy = {sklearn.metrics.accuracy_score(y_otest, dct_y_pred)}, '\n",
    "      f'precision = {sklearn.metrics.precision_score(y_otest, dct_y_pred)}, recall = {sklearn.metrics.recall_score(y_otest, dct_y_pred)}')"
   ]
  },
  {
   "cell_type": "markdown",
   "id": "799535d8",
   "metadata": {},
   "source": [
    "## Выводы\n",
    "\n",
    "В проведенном исследовании использовалось 3 методы машинного обучения для выявления болезни у пациентов.\n",
    "\n",
    "По езультатам классификации без сэмплирования методы Наивного Байеса, Рандомного Леса и Дерева Решений показали метрику f1 = 0.27, 0.11, 0.18 соответственно. Так как в данных наблюдается несбалансированность было принято решение использовать метод сэмплирования данных. После сэмплирования результаты распределены следующим образом:\n",
    "\n",
    "Наивный Байес: 0.76 c undersampling, 0.71 c oversampling;\n",
    "\n",
    "Рандомный Лес: 0.70 c undersampling, 0.95 c oversampling;\n",
    "\n",
    "Деревья Решений: 0.63 c undersampling, 0.93 c oversampling.\n",
    "\n",
    "Таким образом можно сделать вывод, что без метода сэмплирования лучше всего с задачей справился метод Наивного Байеса. После Сэмплирования результаты значительно улучшились, при использовании undersampling лучший результат также продемонстрировал Наивный Байес, а при oversampling метод Рандомного Леса значительно улучшил свои показатели и стал лучшим из трех. "
   ]
  }
 ],
 "metadata": {
  "kernelspec": {
   "display_name": "Python 3 (ipykernel)",
   "language": "python",
   "name": "python3"
  },
  "language_info": {
   "codemirror_mode": {
    "name": "ipython",
    "version": 3
   },
   "file_extension": ".py",
   "mimetype": "text/x-python",
   "name": "python",
   "nbconvert_exporter": "python",
   "pygments_lexer": "ipython3",
   "version": "3.8.13"
  }
 },
 "nbformat": 4,
 "nbformat_minor": 5
}
